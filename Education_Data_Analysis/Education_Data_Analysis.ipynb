{
 "cells": [
  {
   "cell_type": "code",
   "execution_count": null,
   "id": "f1d5f444-12a9-4e01-aa73-dcd24cba254b",
   "metadata": {},
   "outputs": [],
   "source": [
    "# Basic Sumamry Script"
   ]
  },
  {
   "cell_type": "code",
   "execution_count": 249,
   "id": "626cafb2-c995-48d9-bf71-741760bf1213",
   "metadata": {},
   "outputs": [
    {
     "name": "stdout",
     "output_type": "stream",
     "text": [
      "\n",
      "Unique items and their frequencies in 'Sex':\n",
      "Sex\n",
      "1    96\n",
      "2    81\n",
      "Name: count, dtype: int64\n",
      "\n",
      "Unique items and their frequencies in 'Eng_Prof':\n",
      "Eng_Prof\n",
      "7    131\n",
      "3     21\n",
      "2     14\n",
      "4      6\n",
      "1      3\n",
      "5      1\n",
      "6      1\n",
      "Name: count, dtype: int64\n",
      "\n",
      "Unique items and their frequencies in 'Race':\n",
      "Race\n",
      "1    84\n",
      "2    48\n",
      "3    44\n",
      "4     1\n",
      "Name: count, dtype: int64\n",
      "\n",
      "Unique items and their frequencies in 'Parental_Involvement_Score':\n",
      "Parental_Involvement_Score\n",
      "14    21\n",
      "17    18\n",
      "15    17\n",
      "16    14\n",
      "13    14\n",
      "19    13\n",
      "20    11\n",
      "12    11\n",
      "10    10\n",
      "11     9\n",
      "9      7\n",
      "21     6\n",
      "8      5\n",
      "6      5\n",
      "7      4\n",
      "18     4\n",
      "23     3\n",
      "24     3\n",
      "22     2\n",
      "Name: count, dtype: int64\n"
     ]
    }
   ],
   "source": [
    "import pandas as pd\n",
    "\n",
    "def count_unique_items_per_columns(file_path, column_names):\n",
    "\n",
    "    df = pd.read_excel(file_path)\n",
    "    \n",
    "    for column_name in column_names:\n",
    "       \n",
    "        if column_name not in df.columns:\n",
    "            print(f\"Column '{column_name}' not found in the Excel file.\")\n",
    "        else:\n",
    "            \n",
    "            unique_counts = df[column_name].value_counts()\n",
    "            \n",
    "            print(f\"\\nUnique items and their frequencies in '{column_name}':\")\n",
    "            print(unique_counts)\n",
    "\n",
    "file_path = 'updated_data.xlsx'\n",
    "column_names = ['Sex', 'Eng_Prof', 'Race', 'Parental_Involvement_Score']\n",
    "count_unique_items_per_columns(file_path, column_names)\n"
   ]
  },
  {
   "cell_type": "code",
   "execution_count": null,
   "id": "ff924a0d-b79b-4ede-aeed-bb4ed7f56b4d",
   "metadata": {},
   "outputs": [],
   "source": [
    "#Script for the first round of Cleaning"
   ]
  },
  {
   "cell_type": "code",
   "execution_count": 21,
   "id": "4259c95c-6a86-45f7-bfa2-87080ccd8ab5",
   "metadata": {},
   "outputs": [
    {
     "name": "stdout",
     "output_type": "stream",
     "text": [
      "Cleaned data has been saved to cleaned_data.xlsx\n"
     ]
    }
   ],
   "source": [
    "import pandas as pd\n",
    "\n",
    "def clean_excel(file_path, output_file):\n",
    "    df = pd.read_excel(file_path)\n",
    "\n",
    "\n",
    "    df = df[(df['Q3_1'].isin(['A', 'B'])) & (df['Q4_1'].isin(['A', 'B']))]\n",
    "\n",
    "    df = df.dropna(subset=['Q6_3', 'Q6_4', 'Q6_5', 'Q6_6', 'Q2_5'])\n",
    "\n",
    "    df = df[~((df['Q3_1'] == 'A') & (df[['Q3_2', 'Q3_4']].isna().any(axis=1)))]\n",
    "\n",
    "    df = df[~((df['Q4_1'] == 'A') & (df[['Q4_2', 'Q4_4']].isna().any(axis=1)))]\n",
    "\n",
    "    df.loc[(df['Q3_1'] == 'B') & (df['Q3_2'].isna()), 'Q3_2'] = 'NA'\n",
    "    df.loc[(df['Q3_1'] == 'B') & (df['Q3_4'].isna()), 'Q3_4'] = 'NA'\n",
    "\n",
    "    df.loc[(df['Q4_1'] == 'B') & (df['Q4_2'].isna()), 'Q4_2'] = 'NA'\n",
    "    df.loc[(df['Q4_1'] == 'B') & (df['Q4_4'].isna()), 'Q4_4'] = 'NA'\n",
    "\n",
    "    value_mapping = {\n",
    "        'A': 22459, 'B': 30451, 'C': 38443, 'D': 46435, 'E': 54427,\n",
    "        'F': 62419, 'G': 70411, 'H': 78403, 'I': 86395, 'J': 94387,\n",
    "        'K': 102379, 'L': 110371, 'M': 110372\n",
    "    }\n",
    "    \n",
    "    df['Q2_5'] = df['Q2_5'].map(value_mapping)\n",
    "\n",
    "    df['Per_Person_Budget'] = df['Q2_5'] / df['Total Family Members']\n",
    "\n",
    "    df.to_excel(output_file, index=False)\n",
    "    print(f\"Cleaned data has been saved to {output_file}\")\n",
    "\n",
    "input_file = 'SDB data raw - Important Variables.xlsx'\n",
    "output_file = 'cleaned_data_saha_maclaryn.xlsx'\n",
    "clean_excel(input_file, output_file)"
   ]
  },
  {
   "cell_type": "code",
   "execution_count": null,
   "id": "1124fc76-8bf8-4ffe-a00c-f1d864120bd4",
   "metadata": {},
   "outputs": [],
   "source": [
    "# Script used for second round of cleaning (Renaming the variables basically)"
   ]
  },
  {
   "cell_type": "code",
   "execution_count": 155,
   "id": "5394ea23-7d16-4dc4-bd5f-111909e4ae38",
   "metadata": {},
   "outputs": [
    {
     "name": "stdout",
     "output_type": "stream",
     "text": [
      "Updated data has been saved to updated_data1.xlsx\n"
     ]
    }
   ],
   "source": [
    "import pandas as pd\n",
    "\n",
    "def update_values(file_path, output_file):\n",
    "    \n",
    "    df = pd.read_excel(file_path)\n",
    "\n",
    "    df['Q3_1'] = df['Q3_1'].replace({'A': 1, 'B': 0})\n",
    "    df['Q4_1'] = df['Q4_1'].replace({'A': 1, 'B': 0})\n",
    "\n",
    "    replace_q6_3_4 = {'A': 0, 'B': 1, 'C': 2, 'D': 3, 'E': 4}\n",
    "    df['Q6_3'] = df['Q6_3'].replace(replace_q6_3_4)\n",
    "    df['Q6_4'] = df['Q6_4'].replace(replace_q6_3_4)\n",
    "\n",
    "    replace_q6_5_6 = {'A': 0, 'B': 1, 'C': 2, 'D': 3, 'E': 4, 'F': 5}\n",
    "    df['Q6_5'] = df['Q6_5'].replace(replace_q6_5_6)\n",
    "    df['Q6_6'] = df['Q6_6'].replace(replace_q6_5_6)\n",
    "    \n",
    "    replace_q6_7_8 = {'A': 0, 'B': 1, 'C': 2, 'D': 3}\n",
    "    df['Q6_7'] = df['Q6_7'].replace(replace_q6_7_8)\n",
    "    df['Q6_8'] = df['Q6_8'].replace(replace_q6_7_8)\n",
    "\n",
    "    df.to_excel(output_file, index=False)\n",
    "    print(f\"Updated data has been saved to {output_file}\")\n",
    "\n",
    "input_file = 'updated_data.xlsx'\n",
    "output_file = 'updated_data1.xlsx'\n",
    "update_values(input_file, output_file)\n"
   ]
  },
  {
   "cell_type": "code",
   "execution_count": null,
   "id": "cc6797e7-8412-4d01-8b92-ada75ebae2ed",
   "metadata": {},
   "outputs": [],
   "source": [
    "#Just to check if Math scores increased with increasing Reading Test Score"
   ]
  },
  {
   "cell_type": "code",
   "execution_count": 207,
   "id": "b54123fd-eb8f-41f4-94c8-23f646707efc",
   "metadata": {},
   "outputs": [
    {
     "name": "stdout",
     "output_type": "stream",
     "text": [
      "                              OLS Regression Results                             \n",
      "=================================================================================\n",
      "Dep. Variable:     Average MathRIT_18_19   R-squared:                       0.296\n",
      "Model:                               OLS   Adj. R-squared:                  0.292\n",
      "Method:                    Least Squares   F-statistic:                     75.50\n",
      "Date:                   Mon, 11 Nov 2024   Prob (F-statistic):           2.20e-15\n",
      "Time:                           01:16:16   Log-Likelihood:                -881.58\n",
      "No. Observations:                    182   AIC:                             1767.\n",
      "Df Residuals:                        180   BIC:                             1774.\n",
      "Df Model:                              1                                         \n",
      "Covariance Type:               nonrobust                                         \n",
      "=========================================================================================\n",
      "                            coef    std err          t      P>|t|      [0.025      0.975]\n",
      "-----------------------------------------------------------------------------------------\n",
      "const                   119.6576      8.185     14.620      0.000     103.507     135.808\n",
      "Average ReadRIT_18_19     0.3995      0.046      8.689      0.000       0.309       0.490\n",
      "==============================================================================\n",
      "Omnibus:                       26.834   Durbin-Watson:                   1.747\n",
      "Prob(Omnibus):                  0.000   Jarque-Bera (JB):               43.756\n",
      "Skew:                          -0.781   Prob(JB):                     3.15e-10\n",
      "Kurtosis:                       4.825   Cond. No.                         636.\n",
      "==============================================================================\n",
      "\n",
      "Notes:\n",
      "[1] Standard Errors assume that the covariance matrix of the errors is correctly specified.\n"
     ]
    }
   ],
   "source": [
    "import pandas as pd\n",
    "import statsmodels.api as sm\n",
    "\n",
    "df = pd.read_excel('updated_data.xlsx')\n",
    "\n",
    "X = df['Average ReadRIT_18_19']\n",
    "y = df['Average MathRIT_18_19']\n",
    "\n",
    "X = sm.add_constant(X)\n",
    "\n",
    "model = sm.OLS(y, X).fit()\n",
    "\n",
    "print(model.summary())\n"
   ]
  },
  {
   "cell_type": "code",
   "execution_count": null,
   "id": "ab0c0ac6-0c83-4ae9-ae0b-3aaa0219e812",
   "metadata": {},
   "outputs": [],
   "source": [
    "#Script for the Linear Regression Model"
   ]
  },
  {
   "cell_type": "code",
   "execution_count": 237,
   "id": "1e082679-451c-42a0-9750-eec575b95690",
   "metadata": {},
   "outputs": [
    {
     "name": "stdout",
     "output_type": "stream",
     "text": [
      "Model 1 Summary: \n",
      "                              OLS Regression Results                             \n",
      "=================================================================================\n",
      "Dep. Variable:     Average ReadRIT_18_19   R-squared:                       0.276\n",
      "Model:                               OLS   Adj. R-squared:                  0.216\n",
      "Method:                    Least Squares   F-statistic:                     4.629\n",
      "Date:                   Mon, 11 Nov 2024   Prob (F-statistic):           2.43e-06\n",
      "Time:                           01:28:15   Log-Likelihood:                -818.36\n",
      "No. Observations:                    159   AIC:                             1663.\n",
      "Df Residuals:                        146   BIC:                             1703.\n",
      "Df Model:                             12                                         \n",
      "Covariance Type:               nonrobust                                         \n",
      "=====================================================================================\n",
      "                        coef    std err          t      P>|t|      [0.025      0.975]\n",
      "-------------------------------------------------------------------------------------\n",
      "const               127.0028     22.540      5.635      0.000      82.457     171.549\n",
      "Sex_2               -15.8563      7.386     -2.147      0.033     -30.455      -1.258\n",
      "Race_2              -16.8064     11.515     -1.460      0.147     -39.564       5.951\n",
      "Race_3               -8.1671      9.118     -0.896      0.372     -26.188       9.854\n",
      "Race_4              -37.0501     45.285     -0.818      0.415    -126.549      52.449\n",
      "Eng_Prof              7.7073      2.538      3.036      0.003       2.691      12.724\n",
      "Per_Person_Budget     0.0005      0.001      0.991      0.323      -0.001       0.002\n",
      "Q6_3                  0.6854      3.906      0.175      0.861      -7.034       8.405\n",
      "Q6_4                 -3.3644      4.192     -0.803      0.424     -11.649       4.920\n",
      "Q6_5                 -3.3447      3.321     -1.007      0.316      -9.909       3.219\n",
      "Q6_6                  0.1998      3.355      0.060      0.953      -6.431       6.831\n",
      "Q6_7                 -7.4495      4.476     -1.664      0.098     -16.296       1.397\n",
      "Q6_8                 15.5823      4.739      3.288      0.001       6.217      24.948\n",
      "==============================================================================\n",
      "Omnibus:                       15.651   Durbin-Watson:                   1.924\n",
      "Prob(Omnibus):                  0.000   Jarque-Bera (JB):               17.174\n",
      "Skew:                          -0.772   Prob(JB):                     0.000186\n",
      "Kurtosis:                       3.454   Cond. No.                     1.69e+05\n",
      "==============================================================================\n",
      "\n",
      "Notes:\n",
      "[1] Standard Errors assume that the covariance matrix of the errors is correctly specified.\n",
      "[2] The condition number is large, 1.69e+05. This might indicate that there are\n",
      "strong multicollinearity or other numerical problems.\n",
      "Model 1 R-squared on test data: 0.27559846430991164\n"
     ]
    }
   ],
   "source": [
    "import pandas as pd\n",
    "import statsmodels.api as sm\n",
    "from sklearn.model_selection import train_test_split\n",
    "from sklearn.preprocessing import OneHotEncoder\n",
    "\n",
    "df = pd.read_csv('updated_data.csv')\n",
    "\n",
    "X1 = df[['Sex', 'Race', 'Eng_Prof', 'Per_Person_Budget', 'Q6_3', 'Q6_4', 'Q6_5','Q6_6', 'Q6_7', 'Q6_8']]\n",
    "\n",
    "y1 = df['Average ReadRIT_18_19']  \n",
    "\n",
    "encoder = OneHotEncoder(drop='first')\n",
    "\n",
    "encoded_X1 = encoder.fit_transform(X1[['Sex', 'Race']]).toarray()\n",
    "\n",
    "encoded_columns = encoder.get_feature_names_out(['Sex', 'Race'])\n",
    "\n",
    "encoded_X1_df = pd.DataFrame(encoded_X1, columns=encoded_columns)\n",
    "\n",
    "X1 = pd.concat([encoded_X1_df, X1[['Eng_Prof','Per_Person_Budget', 'Q6_3', 'Q6_4', 'Q6_5','Q6_6', 'Q6_7', 'Q6_8']]], axis=1)\n",
    "\n",
    "X1 = sm.add_constant(X1)\n",
    "\n",
    "X1_train, X1_test, y1_train, y1_test = train_test_split(X1, y1, test_size=0.1, random_state=42)\n",
    "\n",
    "model1 = sm.OLS(y1_train, X1_train).fit()\n",
    "\n",
    "print(\"Model 1 Summary: \")\n",
    "print(model1.summary())\n",
    "\n",
    "y1_pred = model1.predict(X1_test)\n",
    "\n",
    "print(f\"Model 1 R-squared on test data: {model1.rsquared}\")"
   ]
  },
  {
   "cell_type": "code",
   "execution_count": null,
   "id": "032a08cf-0e49-4faf-90cc-8fc14e39fa63",
   "metadata": {},
   "outputs": [],
   "source": []
  }
 ],
 "metadata": {
  "kernelspec": {
   "display_name": "Python 3 (ipykernel)",
   "language": "python",
   "name": "python3"
  },
  "language_info": {
   "codemirror_mode": {
    "name": "ipython",
    "version": 3
   },
   "file_extension": ".py",
   "mimetype": "text/x-python",
   "name": "python",
   "nbconvert_exporter": "python",
   "pygments_lexer": "ipython3",
   "version": "3.12.2"
  }
 },
 "nbformat": 4,
 "nbformat_minor": 5
}
